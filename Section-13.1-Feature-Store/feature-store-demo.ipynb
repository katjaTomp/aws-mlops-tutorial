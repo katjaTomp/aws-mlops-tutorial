{
 "cells": [
  {
   "cell_type": "code",
   "execution_count": 26,
   "id": "63dcbeec-3c11-4154-8331-022af5334e23",
   "metadata": {},
   "outputs": [],
   "source": [
    "import sagemaker\n",
    "import boto3\n",
    "import sys\n",
    "import pandas as pd\n",
    "import numpy as np \n",
    "import io \n",
    "from sagemaker.session import Session\n",
    "from sagemaker import get_execution_role"
   ]
  },
  {
   "cell_type": "code",
   "execution_count": 27,
   "id": "34c0b2ef-9562-460c-b93c-258947863535",
   "metadata": {},
   "outputs": [],
   "source": [
    "prefix = \"aws-mlops-sagemaker\"\n",
    "role = get_execution_role()\n",
    "\n",
    "sagemaker_session = Session() \n",
    "region = sagemaker_session.boto_region_name\n",
    "s3_bucket_name = sagemaker_session.default_bucket()"
   ]
  },
  {
   "cell_type": "code",
   "execution_count": 28,
   "id": "905539b3-e492-40ec-bbe5-df46a7c72124",
   "metadata": {},
   "outputs": [
    {
     "data": {
      "text/plain": [
       "'us-east-1'"
      ]
     },
     "execution_count": 28,
     "metadata": {},
     "output_type": "execute_result"
    }
   ],
   "source": [
    "region"
   ]
  },
  {
   "cell_type": "code",
   "execution_count": 29,
   "id": "ba9e8dfb-294c-4742-a049-502f200a4de0",
   "metadata": {},
   "outputs": [
    {
     "data": {
      "text/plain": [
       "'sagemaker-us-east-1-866824485776'"
      ]
     },
     "execution_count": 29,
     "metadata": {},
     "output_type": "execute_result"
    }
   ],
   "source": [
    "s3_bucket_name"
   ]
  },
  {
   "cell_type": "code",
   "execution_count": 30,
   "id": "a7ea4782-ad72-4d39-b23f-2c09e0b3f5d0",
   "metadata": {},
   "outputs": [
    {
     "data": {
      "text/plain": [
       "'arn:aws:iam::866824485776:role/service-role/AmazonSageMaker-ExecutionRole-20240502T094083'"
      ]
     },
     "execution_count": 30,
     "metadata": {},
     "output_type": "execute_result"
    }
   ],
   "source": [
    "role"
   ]
  },
  {
   "cell_type": "code",
   "execution_count": 31,
   "id": "92a113f3-ee44-4761-a723-6dccdc67be2f",
   "metadata": {},
   "outputs": [],
   "source": [
    "# Data \n",
    "customer_data = pd.read_csv(\"transformed/customers.csv\") \n",
    "orders_data = pd.read_csv(\"transformed/orders.csv\")"
   ]
  },
  {
   "cell_type": "code",
   "execution_count": 32,
   "id": "f7711a2b-cde8-4ee5-b841-81440807c671",
   "metadata": {},
   "outputs": [
    {
     "data": {
      "text/html": [
       "<div>\n",
       "<style scoped>\n",
       "    .dataframe tbody tr th:only-of-type {\n",
       "        vertical-align: middle;\n",
       "    }\n",
       "\n",
       "    .dataframe tbody tr th {\n",
       "        vertical-align: top;\n",
       "    }\n",
       "\n",
       "    .dataframe thead th {\n",
       "        text-align: right;\n",
       "    }\n",
       "</style>\n",
       "<table border=\"1\" class=\"dataframe\">\n",
       "  <thead>\n",
       "    <tr style=\"text-align: right;\">\n",
       "      <th></th>\n",
       "      <th>customer_id</th>\n",
       "      <th>sex</th>\n",
       "      <th>is_married</th>\n",
       "      <th>event_time</th>\n",
       "      <th>age_18-29</th>\n",
       "      <th>age_30-39</th>\n",
       "      <th>age_40-49</th>\n",
       "      <th>age_50-59</th>\n",
       "      <th>age_60-69</th>\n",
       "      <th>age_70-plus</th>\n",
       "      <th>n_days_active</th>\n",
       "    </tr>\n",
       "  </thead>\n",
       "  <tbody>\n",
       "    <tr>\n",
       "      <th>0</th>\n",
       "      <td>C1</td>\n",
       "      <td>0</td>\n",
       "      <td>1</td>\n",
       "      <td>2024-05-02T05:39:10.965Z</td>\n",
       "      <td>0</td>\n",
       "      <td>0</td>\n",
       "      <td>0</td>\n",
       "      <td>0</td>\n",
       "      <td>0</td>\n",
       "      <td>1</td>\n",
       "      <td>0.203425</td>\n",
       "    </tr>\n",
       "    <tr>\n",
       "      <th>1</th>\n",
       "      <td>C2</td>\n",
       "      <td>1</td>\n",
       "      <td>1</td>\n",
       "      <td>2024-05-02T05:39:10.966Z</td>\n",
       "      <td>0</td>\n",
       "      <td>0</td>\n",
       "      <td>0</td>\n",
       "      <td>0</td>\n",
       "      <td>0</td>\n",
       "      <td>1</td>\n",
       "      <td>0.859589</td>\n",
       "    </tr>\n",
       "    <tr>\n",
       "      <th>2</th>\n",
       "      <td>C3</td>\n",
       "      <td>1</td>\n",
       "      <td>1</td>\n",
       "      <td>2024-05-02T05:39:10.967Z</td>\n",
       "      <td>0</td>\n",
       "      <td>1</td>\n",
       "      <td>0</td>\n",
       "      <td>0</td>\n",
       "      <td>0</td>\n",
       "      <td>0</td>\n",
       "      <td>0.527397</td>\n",
       "    </tr>\n",
       "    <tr>\n",
       "      <th>3</th>\n",
       "      <td>C4</td>\n",
       "      <td>1</td>\n",
       "      <td>0</td>\n",
       "      <td>2024-05-02T05:39:10.967Z</td>\n",
       "      <td>0</td>\n",
       "      <td>0</td>\n",
       "      <td>0</td>\n",
       "      <td>0</td>\n",
       "      <td>1</td>\n",
       "      <td>0</td>\n",
       "      <td>0.780822</td>\n",
       "    </tr>\n",
       "    <tr>\n",
       "      <th>4</th>\n",
       "      <td>C5</td>\n",
       "      <td>1</td>\n",
       "      <td>0</td>\n",
       "      <td>2024-05-02T05:39:10.968Z</td>\n",
       "      <td>0</td>\n",
       "      <td>0</td>\n",
       "      <td>0</td>\n",
       "      <td>0</td>\n",
       "      <td>1</td>\n",
       "      <td>0</td>\n",
       "      <td>0.691096</td>\n",
       "    </tr>\n",
       "  </tbody>\n",
       "</table>\n",
       "</div>"
      ],
      "text/plain": [
       "  customer_id  sex  is_married  ... age_60-69  age_70-plus  n_days_active\n",
       "0          C1    0           1  ...         0            1       0.203425\n",
       "1          C2    1           1  ...         0            1       0.859589\n",
       "2          C3    1           1  ...         0            0       0.527397\n",
       "3          C4    1           0  ...         1            0       0.780822\n",
       "4          C5    1           0  ...         1            0       0.691096\n",
       "\n",
       "[5 rows x 11 columns]"
      ]
     },
     "execution_count": 32,
     "metadata": {},
     "output_type": "execute_result"
    }
   ],
   "source": [
    "customer_data.head()"
   ]
  },
  {
   "cell_type": "code",
   "execution_count": 33,
   "id": "9beff330-a697-4ef7-b4d2-33b0e7dd6fb5",
   "metadata": {},
   "outputs": [
    {
     "data": {
      "text/html": [
       "<div>\n",
       "<style scoped>\n",
       "    .dataframe tbody tr th:only-of-type {\n",
       "        vertical-align: middle;\n",
       "    }\n",
       "\n",
       "    .dataframe tbody tr th {\n",
       "        vertical-align: top;\n",
       "    }\n",
       "\n",
       "    .dataframe thead th {\n",
       "        text-align: right;\n",
       "    }\n",
       "</style>\n",
       "<table border=\"1\" class=\"dataframe\">\n",
       "  <thead>\n",
       "    <tr style=\"text-align: right;\">\n",
       "      <th></th>\n",
       "      <th>order_id</th>\n",
       "      <th>customer_id</th>\n",
       "      <th>product_id</th>\n",
       "      <th>purchase_amount</th>\n",
       "      <th>is_reordered</th>\n",
       "      <th>event_time</th>\n",
       "      <th>n_days_since_last_purchase</th>\n",
       "    </tr>\n",
       "  </thead>\n",
       "  <tbody>\n",
       "    <tr>\n",
       "      <th>0</th>\n",
       "      <td>O1</td>\n",
       "      <td>C9765</td>\n",
       "      <td>P11660</td>\n",
       "      <td>0.572673</td>\n",
       "      <td>0</td>\n",
       "      <td>2024-05-02T05:39:17.172Z</td>\n",
       "      <td>0.273256</td>\n",
       "    </tr>\n",
       "    <tr>\n",
       "      <th>1</th>\n",
       "      <td>O2</td>\n",
       "      <td>C3674</td>\n",
       "      <td>P6868</td>\n",
       "      <td>0.693861</td>\n",
       "      <td>0</td>\n",
       "      <td>2024-05-02T05:39:17.172Z</td>\n",
       "      <td>0.846899</td>\n",
       "    </tr>\n",
       "    <tr>\n",
       "      <th>2</th>\n",
       "      <td>O3</td>\n",
       "      <td>C2139</td>\n",
       "      <td>P4749</td>\n",
       "      <td>0.556139</td>\n",
       "      <td>1</td>\n",
       "      <td>2024-05-02T05:39:17.172Z</td>\n",
       "      <td>0.408915</td>\n",
       "    </tr>\n",
       "    <tr>\n",
       "      <th>3</th>\n",
       "      <td>O4</td>\n",
       "      <td>C7794</td>\n",
       "      <td>P542</td>\n",
       "      <td>0.043069</td>\n",
       "      <td>1</td>\n",
       "      <td>2024-05-02T05:39:17.172Z</td>\n",
       "      <td>0.843023</td>\n",
       "    </tr>\n",
       "    <tr>\n",
       "      <th>4</th>\n",
       "      <td>O5</td>\n",
       "      <td>C2229</td>\n",
       "      <td>P7605</td>\n",
       "      <td>0.463861</td>\n",
       "      <td>1</td>\n",
       "      <td>2024-05-02T05:39:17.172Z</td>\n",
       "      <td>0.265504</td>\n",
       "    </tr>\n",
       "  </tbody>\n",
       "</table>\n",
       "</div>"
      ],
      "text/plain": [
       "  order_id customer_id  ...                event_time  n_days_since_last_purchase\n",
       "0       O1       C9765  ...  2024-05-02T05:39:17.172Z                    0.273256\n",
       "1       O2       C3674  ...  2024-05-02T05:39:17.172Z                    0.846899\n",
       "2       O3       C2139  ...  2024-05-02T05:39:17.172Z                    0.408915\n",
       "3       O4       C7794  ...  2024-05-02T05:39:17.172Z                    0.843023\n",
       "4       O5       C2229  ...  2024-05-02T05:39:17.172Z                    0.265504\n",
       "\n",
       "[5 rows x 7 columns]"
      ]
     },
     "execution_count": 33,
     "metadata": {},
     "output_type": "execute_result"
    }
   ],
   "source": [
    "orders_data.head()"
   ]
  },
  {
   "cell_type": "code",
   "execution_count": 34,
   "id": "54eaca36-76fd-47c3-b150-b587fdc1797a",
   "metadata": {},
   "outputs": [],
   "source": [
    "# Create feature group\n",
    "from time import gmtime, strftime, sleep\n",
    "\n",
    "customers_feature_group_name = \"customers-fg-\"+strftime(\"%d-%H-%M-%S\", gmtime()) \n",
    "orders_feature_group_name = \"orders-fg-\"+strftime(\"%d-%H-%M-%S\", gmtime()) "
   ]
  },
  {
   "cell_type": "code",
   "execution_count": 35,
   "id": "b8c936c3-5234-498d-9f06-ee2a9a5092ab",
   "metadata": {},
   "outputs": [
    {
     "data": {
      "text/plain": [
       "'customers-fg-02-13-01-25'"
      ]
     },
     "execution_count": 35,
     "metadata": {},
     "output_type": "execute_result"
    }
   ],
   "source": [
    "customers_feature_group_name"
   ]
  },
  {
   "cell_type": "code",
   "execution_count": 36,
   "id": "61e8c485-a3f9-40a9-94b1-05b9fe13c1e6",
   "metadata": {},
   "outputs": [
    {
     "data": {
      "text/plain": [
       "'orders-fg-02-13-01-25'"
      ]
     },
     "execution_count": 36,
     "metadata": {},
     "output_type": "execute_result"
    }
   ],
   "source": [
    "orders_feature_group_name"
   ]
  },
  {
   "cell_type": "code",
   "execution_count": 37,
   "id": "9faa3643-8bca-4bf5-8e56-600fb5e961fa",
   "metadata": {},
   "outputs": [],
   "source": [
    "from sagemaker.feature_store.feature_group import FeatureGroup\n",
    "\n",
    "customers_feature_group = FeatureGroup(name=customers_feature_group_name , \n",
    "                                       sagemaker_session = sagemaker_session)\n",
    "\n",
    "orders_feature_group = FeatureGroup(name=orders_feature_group_name , \n",
    "                                       sagemaker_session = sagemaker_session)"
   ]
  },
  {
   "cell_type": "code",
   "execution_count": 38,
   "id": "a8939756-6578-450e-9d2f-26776a36c00a",
   "metadata": {},
   "outputs": [],
   "source": [
    "record_identifier_feature_name = \"customer_id\""
   ]
  },
  {
   "cell_type": "code",
   "execution_count": 24,
   "id": "bf6388f1-c9bd-443e-b1fe-6c57e21c6d04",
   "metadata": {},
   "outputs": [
    {
     "name": "stdout",
     "output_type": "stream",
     "text": [
      "<class 'pandas.core.frame.DataFrame'>\n",
      "RangeIndex: 100000 entries, 0 to 99999\n",
      "Data columns (total 7 columns):\n",
      " #   Column                      Non-Null Count   Dtype              \n",
      "---  ------                      --------------   -----              \n",
      " 0   order_id                    100000 non-null  object             \n",
      " 1   customer_id                 100000 non-null  object             \n",
      " 2   product_id                  100000 non-null  object             \n",
      " 3   purchase_amount             100000 non-null  float64            \n",
      " 4   is_reordered                100000 non-null  int64              \n",
      " 5   event_time                  100000 non-null  datetime64[ns, UTC]\n",
      " 6   n_days_since_last_purchase  100000 non-null  float64            \n",
      "dtypes: datetime64[ns, UTC](1), float64(2), int64(1), object(3)\n",
      "memory usage: 5.3+ MB\n"
     ]
    }
   ],
   "source": [
    "orders_data.info()"
   ]
  },
  {
   "cell_type": "code",
   "execution_count": 40,
   "id": "3e69476c-4ebf-4420-9bd8-e7e3f7ca7b73",
   "metadata": {},
   "outputs": [
    {
     "data": {
      "text/plain": [
       "[FeatureDefinition(feature_name='customer_id', feature_type=<FeatureTypeEnum.STRING: 'String'>, collection_type=None),\n",
       " FeatureDefinition(feature_name='sex', feature_type=<FeatureTypeEnum.INTEGRAL: 'Integral'>, collection_type=None),\n",
       " FeatureDefinition(feature_name='is_married', feature_type=<FeatureTypeEnum.INTEGRAL: 'Integral'>, collection_type=None),\n",
       " FeatureDefinition(feature_name='event_time', feature_type=<FeatureTypeEnum.STRING: 'String'>, collection_type=None),\n",
       " FeatureDefinition(feature_name='age_18-29', feature_type=<FeatureTypeEnum.INTEGRAL: 'Integral'>, collection_type=None),\n",
       " FeatureDefinition(feature_name='age_30-39', feature_type=<FeatureTypeEnum.INTEGRAL: 'Integral'>, collection_type=None),\n",
       " FeatureDefinition(feature_name='age_40-49', feature_type=<FeatureTypeEnum.INTEGRAL: 'Integral'>, collection_type=None),\n",
       " FeatureDefinition(feature_name='age_50-59', feature_type=<FeatureTypeEnum.INTEGRAL: 'Integral'>, collection_type=None),\n",
       " FeatureDefinition(feature_name='age_60-69', feature_type=<FeatureTypeEnum.INTEGRAL: 'Integral'>, collection_type=None),\n",
       " FeatureDefinition(feature_name='age_70-plus', feature_type=<FeatureTypeEnum.INTEGRAL: 'Integral'>, collection_type=None),\n",
       " FeatureDefinition(feature_name='n_days_active', feature_type=<FeatureTypeEnum.FRACTIONAL: 'Fractional'>, collection_type=None)]"
      ]
     },
     "execution_count": 40,
     "metadata": {},
     "output_type": "execute_result"
    }
   ],
   "source": [
    "# Load Feature definitions\n",
    "customers_feature_group.load_feature_definitions(data_frame = customer_data)"
   ]
  },
  {
   "cell_type": "code",
   "execution_count": 41,
   "id": "ed4f6919-4c39-4c78-a6d6-97554c2adbf5",
   "metadata": {},
   "outputs": [
    {
     "data": {
      "text/plain": [
       "[FeatureDefinition(feature_name='order_id', feature_type=<FeatureTypeEnum.STRING: 'String'>, collection_type=None),\n",
       " FeatureDefinition(feature_name='customer_id', feature_type=<FeatureTypeEnum.STRING: 'String'>, collection_type=None),\n",
       " FeatureDefinition(feature_name='product_id', feature_type=<FeatureTypeEnum.STRING: 'String'>, collection_type=None),\n",
       " FeatureDefinition(feature_name='purchase_amount', feature_type=<FeatureTypeEnum.FRACTIONAL: 'Fractional'>, collection_type=None),\n",
       " FeatureDefinition(feature_name='is_reordered', feature_type=<FeatureTypeEnum.INTEGRAL: 'Integral'>, collection_type=None),\n",
       " FeatureDefinition(feature_name='event_time', feature_type=<FeatureTypeEnum.STRING: 'String'>, collection_type=None),\n",
       " FeatureDefinition(feature_name='n_days_since_last_purchase', feature_type=<FeatureTypeEnum.FRACTIONAL: 'Fractional'>, collection_type=None)]"
      ]
     },
     "execution_count": 41,
     "metadata": {},
     "output_type": "execute_result"
    }
   ],
   "source": [
    "# Load Feature definitions\n",
    "orders_feature_group.load_feature_definitions(data_frame = orders_data)"
   ]
  },
  {
   "cell_type": "code",
   "execution_count": 42,
   "id": "261e23f0-927c-4521-abba-d5a52aa2523d",
   "metadata": {},
   "outputs": [
    {
     "data": {
      "text/plain": [
       "{'FeatureGroupArn': 'arn:aws:sagemaker:us-east-1:866824485776:feature-group/customers-fg-02-13-01-25',\n",
       " 'ResponseMetadata': {'RequestId': 'bd641334-f38b-47ec-84ef-cc99833666ba',\n",
       "  'HTTPStatusCode': 200,\n",
       "  'HTTPHeaders': {'x-amzn-requestid': 'bd641334-f38b-47ec-84ef-cc99833666ba',\n",
       "   'content-type': 'application/x-amz-json-1.1',\n",
       "   'content-length': '101',\n",
       "   'date': 'Thu, 02 May 2024 13:06:03 GMT'},\n",
       "  'RetryAttempts': 0}}"
      ]
     },
     "execution_count": 42,
     "metadata": {},
     "output_type": "execute_result"
    }
   ],
   "source": [
    "customers_feature_group.create(s3_uri = f\"s3://{s3_bucket_name}/{prefix}\",\n",
    "                               record_identifier_name=record_identifier_feature_name, event_time_feature_name=\"event_time\",\n",
    "                                role_arn=role,\n",
    "                                enable_online_store=True)"
   ]
  },
  {
   "cell_type": "code",
   "execution_count": 43,
   "id": "2d9c6687-9635-4467-b62f-68c40c02ecad",
   "metadata": {},
   "outputs": [
    {
     "data": {
      "text/plain": [
       "{'FeatureGroupArn': 'arn:aws:sagemaker:us-east-1:866824485776:feature-group/orders-fg-02-13-01-25',\n",
       " 'ResponseMetadata': {'RequestId': 'eb2e5a9c-aba7-43bd-9ffc-40f10fc10e5d',\n",
       "  'HTTPStatusCode': 200,\n",
       "  'HTTPHeaders': {'x-amzn-requestid': 'eb2e5a9c-aba7-43bd-9ffc-40f10fc10e5d',\n",
       "   'content-type': 'application/x-amz-json-1.1',\n",
       "   'content-length': '98',\n",
       "   'date': 'Thu, 02 May 2024 13:06:49 GMT'},\n",
       "  'RetryAttempts': 0}}"
      ]
     },
     "execution_count": 43,
     "metadata": {},
     "output_type": "execute_result"
    }
   ],
   "source": [
    "orders_feature_group.create(s3_uri = f\"s3://{s3_bucket_name}/{prefix}\",\n",
    "                               record_identifier_name=record_identifier_feature_name, event_time_feature_name=\"event_time\",\n",
    "                                role_arn=role,\n",
    "                                enable_online_store=True)"
   ]
  },
  {
   "cell_type": "code",
   "execution_count": 44,
   "id": "a548d892-caa1-4038-8136-995a4e347297",
   "metadata": {},
   "outputs": [
    {
     "data": {
      "text/plain": [
       "{'FeatureGroupArn': 'arn:aws:sagemaker:us-east-1:866824485776:feature-group/customers-fg-02-13-01-25',\n",
       " 'FeatureGroupName': 'customers-fg-02-13-01-25',\n",
       " 'RecordIdentifierFeatureName': 'customer_id',\n",
       " 'EventTimeFeatureName': 'event_time',\n",
       " 'FeatureDefinitions': [{'FeatureName': 'customer_id',\n",
       "   'FeatureType': 'String'},\n",
       "  {'FeatureName': 'sex', 'FeatureType': 'Integral'},\n",
       "  {'FeatureName': 'is_married', 'FeatureType': 'Integral'},\n",
       "  {'FeatureName': 'event_time', 'FeatureType': 'String'},\n",
       "  {'FeatureName': 'age_18-29', 'FeatureType': 'Integral'},\n",
       "  {'FeatureName': 'age_30-39', 'FeatureType': 'Integral'},\n",
       "  {'FeatureName': 'age_40-49', 'FeatureType': 'Integral'},\n",
       "  {'FeatureName': 'age_50-59', 'FeatureType': 'Integral'},\n",
       "  {'FeatureName': 'age_60-69', 'FeatureType': 'Integral'},\n",
       "  {'FeatureName': 'age_70-plus', 'FeatureType': 'Integral'},\n",
       "  {'FeatureName': 'n_days_active', 'FeatureType': 'Fractional'}],\n",
       " 'CreationTime': datetime.datetime(2024, 5, 2, 13, 6, 3, 461000, tzinfo=tzlocal()),\n",
       " 'OnlineStoreConfig': {'EnableOnlineStore': True},\n",
       " 'OfflineStoreConfig': {'S3StorageConfig': {'S3Uri': 's3://sagemaker-us-east-1-866824485776/aws-mlops-sagemaker',\n",
       "   'ResolvedOutputS3Uri': 's3://sagemaker-us-east-1-866824485776/aws-mlops-sagemaker/866824485776/sagemaker/us-east-1/offline-store/customers-fg-02-13-01-25-1714655163/data'},\n",
       "  'DisableGlueTableCreation': False,\n",
       "  'DataCatalogConfig': {'TableName': 'customers_fg_02_13_01_25_1714655163',\n",
       "   'Catalog': 'AwsDataCatalog',\n",
       "   'Database': 'sagemaker_featurestore'}},\n",
       " 'ThroughputConfig': {'ThroughputMode': 'OnDemand'},\n",
       " 'RoleArn': 'arn:aws:iam::866824485776:role/service-role/AmazonSageMaker-ExecutionRole-20240502T094083',\n",
       " 'FeatureGroupStatus': 'Created',\n",
       " 'OnlineStoreTotalSizeBytes': 0,\n",
       " 'ResponseMetadata': {'RequestId': '4d460a7d-7872-4851-b1bf-7f66e49f1e82',\n",
       "  'HTTPStatusCode': 200,\n",
       "  'HTTPHeaders': {'x-amzn-requestid': '4d460a7d-7872-4851-b1bf-7f66e49f1e82',\n",
       "   'content-type': 'application/x-amz-json-1.1',\n",
       "   'content-length': '2070',\n",
       "   'date': 'Thu, 02 May 2024 13:07:10 GMT'},\n",
       "  'RetryAttempts': 0}}"
      ]
     },
     "execution_count": 44,
     "metadata": {},
     "output_type": "execute_result"
    }
   ],
   "source": [
    "customers_feature_group.describe()"
   ]
  },
  {
   "cell_type": "code",
   "execution_count": 45,
   "id": "2e540af0-01e1-4ffb-aed1-b4a8e09f0097",
   "metadata": {},
   "outputs": [
    {
     "data": {
      "text/plain": [
       "{'FeatureGroupArn': 'arn:aws:sagemaker:us-east-1:866824485776:feature-group/orders-fg-02-13-01-25',\n",
       " 'FeatureGroupName': 'orders-fg-02-13-01-25',\n",
       " 'RecordIdentifierFeatureName': 'customer_id',\n",
       " 'EventTimeFeatureName': 'event_time',\n",
       " 'FeatureDefinitions': [{'FeatureName': 'order_id', 'FeatureType': 'String'},\n",
       "  {'FeatureName': 'customer_id', 'FeatureType': 'String'},\n",
       "  {'FeatureName': 'product_id', 'FeatureType': 'String'},\n",
       "  {'FeatureName': 'purchase_amount', 'FeatureType': 'Fractional'},\n",
       "  {'FeatureName': 'is_reordered', 'FeatureType': 'Integral'},\n",
       "  {'FeatureName': 'event_time', 'FeatureType': 'String'},\n",
       "  {'FeatureName': 'n_days_since_last_purchase', 'FeatureType': 'Fractional'}],\n",
       " 'CreationTime': datetime.datetime(2024, 5, 2, 13, 6, 49, 748000, tzinfo=tzlocal()),\n",
       " 'OnlineStoreConfig': {'EnableOnlineStore': True},\n",
       " 'OfflineStoreConfig': {'S3StorageConfig': {'S3Uri': 's3://sagemaker-us-east-1-866824485776/aws-mlops-sagemaker',\n",
       "   'ResolvedOutputS3Uri': 's3://sagemaker-us-east-1-866824485776/aws-mlops-sagemaker/866824485776/sagemaker/us-east-1/offline-store/orders-fg-02-13-01-25-1714655209/data'},\n",
       "  'DisableGlueTableCreation': False,\n",
       "  'DataCatalogConfig': {'TableName': 'orders_fg_02_13_01_25_1714655209',\n",
       "   'Catalog': 'AwsDataCatalog',\n",
       "   'Database': 'sagemaker_featurestore'}},\n",
       " 'ThroughputConfig': {'ThroughputMode': 'OnDemand'},\n",
       " 'RoleArn': 'arn:aws:iam::866824485776:role/service-role/AmazonSageMaker-ExecutionRole-20240502T094083',\n",
       " 'FeatureGroupStatus': 'Created',\n",
       " 'OnlineStoreTotalSizeBytes': 0,\n",
       " 'ResponseMetadata': {'RequestId': '5463691a-93f1-4ab7-9e8e-7c27d1bbfa3d',\n",
       "  'HTTPStatusCode': 200,\n",
       "  'HTTPHeaders': {'x-amzn-requestid': '5463691a-93f1-4ab7-9e8e-7c27d1bbfa3d',\n",
       "   'content-type': 'application/x-amz-json-1.1',\n",
       "   'content-length': '1869',\n",
       "   'date': 'Thu, 02 May 2024 13:07:50 GMT'},\n",
       "  'RetryAttempts': 0}}"
      ]
     },
     "execution_count": 45,
     "metadata": {},
     "output_type": "execute_result"
    }
   ],
   "source": [
    "orders_feature_group.describe() "
   ]
  },
  {
   "cell_type": "code",
   "execution_count": 46,
   "id": "0d3a66ff-2b53-48a5-9da5-9c64c14dcb10",
   "metadata": {},
   "outputs": [
    {
     "data": {
      "text/plain": [
       "{'ResponseMetadata': {'RequestId': 'dc38931a-ad9d-4d67-a84b-d9027ce3207d',\n",
       "  'HTTPStatusCode': 200,\n",
       "  'HTTPHeaders': {'x-amzn-requestid': 'dc38931a-ad9d-4d67-a84b-d9027ce3207d',\n",
       "   'content-type': 'application/x-amz-json-1.1',\n",
       "   'date': 'Thu, 02 May 2024 13:13:30 GMT',\n",
       "   'content-length': '0'},\n",
       "  'RetryAttempts': 0}}"
      ]
     },
     "execution_count": 46,
     "metadata": {},
     "output_type": "execute_result"
    }
   ],
   "source": [
    "# Add metadata to a feature\n",
    "# description and parameters\n",
    "\n",
    "from sagemaker.feature_store.inputs import FeatureParameter\n",
    "\n",
    "customers_feature_group.update_feature_metadata(feature_name = \"customer_id\", description= \"The ID of the customer, it is also part of Order feature group\",\n",
    "                                                parameter_additions=[FeatureParameter(\"idType\",\"primarykey\")])"
   ]
  },
  {
   "cell_type": "code",
   "execution_count": 47,
   "id": "3ebe256c-1e85-4850-a103-c9c9ec03adcd",
   "metadata": {},
   "outputs": [
    {
     "data": {
      "text/plain": [
       "{'FeatureGroupArn': 'arn:aws:sagemaker:us-east-1:866824485776:feature-group/customers-fg-02-13-01-25',\n",
       " 'FeatureGroupName': 'customers-fg-02-13-01-25',\n",
       " 'FeatureName': 'customer_id',\n",
       " 'FeatureType': 'String',\n",
       " 'CreationTime': datetime.datetime(2024, 5, 2, 13, 6, 3, 461000, tzinfo=tzlocal()),\n",
       " 'LastModifiedTime': datetime.datetime(2024, 5, 2, 13, 13, 30, 993000, tzinfo=tzlocal()),\n",
       " 'Description': 'The ID of the customer, it is also part of Order feature group',\n",
       " 'Parameters': [{'Key': 'idType', 'Value': 'primarykey'}],\n",
       " 'ResponseMetadata': {'RequestId': 'f0fa0936-c681-447a-92d8-1c548c0c2a7d',\n",
       "  'HTTPStatusCode': 200,\n",
       "  'HTTPHeaders': {'x-amzn-requestid': 'f0fa0936-c681-447a-92d8-1c548c0c2a7d',\n",
       "   'content-type': 'application/x-amz-json-1.1',\n",
       "   'content-length': '398',\n",
       "   'date': 'Thu, 02 May 2024 13:13:58 GMT'},\n",
       "  'RetryAttempts': 0}}"
      ]
     },
     "execution_count": 47,
     "metadata": {},
     "output_type": "execute_result"
    }
   ],
   "source": [
    "customers_feature_group.describe_feature_metadata(\"customer_id\")"
   ]
  },
  {
   "cell_type": "code",
   "execution_count": 52,
   "id": "f8c84252-e4c1-4924-8c24-becffd58b798",
   "metadata": {},
   "outputs": [
    {
     "data": {
      "text/plain": [
       "{'Results': [{'FeatureMetadata': {'FeatureGroupArn': 'arn:aws:sagemaker:us-east-1:866824485776:feature-group/customers-fg-02-13-01-25',\n",
       "    'FeatureGroupName': 'customers-fg-02-13-01-25',\n",
       "    'FeatureName': 'customer_id',\n",
       "    'FeatureType': 'String',\n",
       "    'CreationTime': datetime.datetime(2024, 5, 2, 13, 6, 3, tzinfo=tzlocal()),\n",
       "    'LastModifiedTime': datetime.datetime(2024, 5, 2, 13, 13, 30, tzinfo=tzlocal()),\n",
       "    'Description': 'The ID of the customer, it is also part of Order feature group',\n",
       "    'Parameters': [{'Key': 'idType', 'Value': 'primarykey'}]}}],\n",
       " 'ResponseMetadata': {'RequestId': '58c2749c-ccd0-4a10-89db-7d5e816667b7',\n",
       "  'HTTPStatusCode': 200,\n",
       "  'HTTPHeaders': {'x-amzn-requestid': '58c2749c-ccd0-4a10-89db-7d5e816667b7',\n",
       "   'content-type': 'application/x-amz-json-1.1',\n",
       "   'content-length': '461',\n",
       "   'date': 'Thu, 02 May 2024 13:18:45 GMT'},\n",
       "  'RetryAttempts': 0}}"
      ]
     },
     "execution_count": 52,
     "metadata": {},
     "output_type": "execute_result"
    }
   ],
   "source": [
    "sagemaker_session.boto_session.client(\"sagemaker\", region_name=region).search(\n",
    "    Resource=\"FeatureMetadata\",\n",
    "    SearchExpression={\n",
    "        \"Filters\":[\n",
    "            {\n",
    "                \"Name\": \"FeatureGroupName\",\n",
    "                \"Operator\": \"Contains\",\n",
    "                \"Value\": \"customers-fg\"\n",
    "            },\n",
    "            {\"Name\": \"Parameters.idType\", \"Operator\": \"Equals\", \"Value\": \"primarykey\"}\n",
    "        ]\n",
    "    })"
   ]
  },
  {
   "cell_type": "markdown",
   "id": "25b657e8-4c34-4ac1-bb9f-78434962249f",
   "metadata": {},
   "source": [
    "# Ingest the data to the Feature Group"
   ]
  },
  {
   "cell_type": "code",
   "execution_count": 53,
   "id": "d80fd566-7c5b-4a34-8614-6f71fcf21355",
   "metadata": {},
   "outputs": [
    {
     "data": {
      "text/plain": [
       "IngestionManagerPandas(feature_group_name='customers-fg-02-13-01-25', feature_definitions={'customer_id': {'FeatureName': 'customer_id', 'FeatureType': 'String'}, 'sex': {'FeatureName': 'sex', 'FeatureType': 'Integral'}, 'is_married': {'FeatureName': 'is_married', 'FeatureType': 'Integral'}, 'event_time': {'FeatureName': 'event_time', 'FeatureType': 'String'}, 'age_18-29': {'FeatureName': 'age_18-29', 'FeatureType': 'Integral'}, 'age_30-39': {'FeatureName': 'age_30-39', 'FeatureType': 'Integral'}, 'age_40-49': {'FeatureName': 'age_40-49', 'FeatureType': 'Integral'}, 'age_50-59': {'FeatureName': 'age_50-59', 'FeatureType': 'Integral'}, 'age_60-69': {'FeatureName': 'age_60-69', 'FeatureType': 'Integral'}, 'age_70-plus': {'FeatureName': 'age_70-plus', 'FeatureType': 'Integral'}, 'n_days_active': {'FeatureName': 'n_days_active', 'FeatureType': 'Fractional'}}, sagemaker_fs_runtime_client_config=<botocore.config.Config object at 0x7f5caed696c0>, sagemaker_session=<sagemaker.session.Session object at 0x7f5caea7a6e0>, max_workers=3, max_processes=1, profile_name=None, _async_result=<multiprocess.pool.MapResult object at 0x7f5caad72470>, _processing_pool=<pool ProcessPool(ncpus=1)>, _failed_indices=[])"
      ]
     },
     "execution_count": 53,
     "metadata": {},
     "output_type": "execute_result"
    }
   ],
   "source": [
    "customers_feature_group.ingest(data_frame = customer_data, max_workers=3,wait=True)"
   ]
  },
  {
   "cell_type": "code",
   "execution_count": 54,
   "id": "00793811-f1c2-4a37-aeb7-d3378db57acc",
   "metadata": {},
   "outputs": [
    {
     "data": {
      "text/plain": [
       "IngestionManagerPandas(feature_group_name='orders-fg-02-13-01-25', feature_definitions={'order_id': {'FeatureName': 'order_id', 'FeatureType': 'String'}, 'customer_id': {'FeatureName': 'customer_id', 'FeatureType': 'String'}, 'product_id': {'FeatureName': 'product_id', 'FeatureType': 'String'}, 'purchase_amount': {'FeatureName': 'purchase_amount', 'FeatureType': 'Fractional'}, 'is_reordered': {'FeatureName': 'is_reordered', 'FeatureType': 'Integral'}, 'event_time': {'FeatureName': 'event_time', 'FeatureType': 'String'}, 'n_days_since_last_purchase': {'FeatureName': 'n_days_since_last_purchase', 'FeatureType': 'Fractional'}}, sagemaker_fs_runtime_client_config=<botocore.config.Config object at 0x7f5caed696c0>, sagemaker_session=<sagemaker.session.Session object at 0x7f5caea7a6e0>, max_workers=3, max_processes=1, profile_name=None, _async_result=<multiprocess.pool.MapResult object at 0x7f5cab3023b0>, _processing_pool=<pool ProcessPool(ncpus=1)>, _failed_indices=[])"
      ]
     },
     "execution_count": 54,
     "metadata": {},
     "output_type": "execute_result"
    }
   ],
   "source": [
    "orders_feature_group.ingest(data_frame = orders_data, max_workers=3,wait=True)"
   ]
  },
  {
   "cell_type": "code",
   "execution_count": 56,
   "id": "7d6138ef-43c0-4020-aacc-744773ed7901",
   "metadata": {},
   "outputs": [],
   "source": [
    "customer_id = \"C1\"\n",
    "sample_record = sagemaker_session.boto_session.client(\n",
    "    \"sagemaker-featurestore-runtime\", region_name=region\n",
    ").get_record(\n",
    "    FeatureGroupName=customers_feature_group_name, RecordIdentifierValueAsString=str(customer_id)\n",
    ")"
   ]
  },
  {
   "cell_type": "code",
   "execution_count": 57,
   "id": "a6d2a64f-a770-4ed3-85a1-e1153b3378e7",
   "metadata": {},
   "outputs": [
    {
     "data": {
      "text/plain": [
       "{'ResponseMetadata': {'RequestId': '6ba01a11-54fe-4d00-a08e-1c06681f9ce5',\n",
       "  'HTTPStatusCode': 200,\n",
       "  'HTTPHeaders': {'x-amzn-requestid': '6ba01a11-54fe-4d00-a08e-1c06681f9ce5',\n",
       "   'content-type': 'application/json',\n",
       "   'content-length': '877',\n",
       "   'date': 'Thu, 02 May 2024 13:32:28 GMT'},\n",
       "  'RetryAttempts': 0},\n",
       " 'Record': [{'FeatureName': 'customer_id', 'ValueAsString': 'C1'},\n",
       "  {'FeatureName': 'sex', 'ValueAsString': '0'},\n",
       "  {'FeatureName': 'is_married', 'ValueAsString': '1'},\n",
       "  {'FeatureName': 'event_time', 'ValueAsString': '2024-05-02T05:39:10.965Z'},\n",
       "  {'FeatureName': 'age_18-29', 'ValueAsString': '0'},\n",
       "  {'FeatureName': 'age_30-39', 'ValueAsString': '0'},\n",
       "  {'FeatureName': 'age_40-49', 'ValueAsString': '0'},\n",
       "  {'FeatureName': 'age_50-59', 'ValueAsString': '0'},\n",
       "  {'FeatureName': 'age_60-69', 'ValueAsString': '0'},\n",
       "  {'FeatureName': 'age_70-plus', 'ValueAsString': '1'},\n",
       "  {'FeatureName': 'n_days_active', 'ValueAsString': '0.2034246575342466'}]}"
      ]
     },
     "execution_count": 57,
     "metadata": {},
     "output_type": "execute_result"
    }
   ],
   "source": [
    "sample_record"
   ]
  },
  {
   "cell_type": "code",
   "execution_count": 58,
   "id": "760c62c9-410e-4d85-9098-2ebb240ecdce",
   "metadata": {},
   "outputs": [],
   "source": [
    "all_records = sagemaker_session.boto_session.client(\n",
    "    \"sagemaker-featurestore-runtime\", region_name=region\n",
    ").batch_get_record(\n",
    "    Identifiers=[\n",
    "        {\n",
    "            \"FeatureGroupName\": customers_feature_group_name,\n",
    "            \"RecordIdentifiersValueAsString\": [\"C1\",\"C2\"],\n",
    "        },\n",
    "        {\n",
    "            \"FeatureGroupName\": orders_feature_group_name,\n",
    "            \"RecordIdentifiersValueAsString\": [\"C1\",\"C2\"],\n",
    "        },\n",
    "    ]\n",
    ")"
   ]
  },
  {
   "cell_type": "code",
   "execution_count": 59,
   "id": "7000fcdf-f029-4b61-9b26-4950fb6fecac",
   "metadata": {},
   "outputs": [
    {
     "data": {
      "text/plain": [
       "{'ResponseMetadata': {'RequestId': '6c15f5c0-9145-4084-ba9e-44b02d9c7663',\n",
       "  'HTTPStatusCode': 200,\n",
       "  'HTTPHeaders': {'x-amzn-requestid': '6c15f5c0-9145-4084-ba9e-44b02d9c7663',\n",
       "   'content-type': 'application/json',\n",
       "   'content-length': '3408',\n",
       "   'date': 'Thu, 02 May 2024 13:33:33 GMT'},\n",
       "  'RetryAttempts': 0},\n",
       " 'Records': [{'FeatureGroupName': 'customers-fg-02-13-01-25',\n",
       "   'RecordIdentifierValueAsString': 'C1',\n",
       "   'Record': [{'FeatureName': 'customer_id', 'ValueAsString': 'C1'},\n",
       "    {'FeatureName': 'sex', 'ValueAsString': '0'},\n",
       "    {'FeatureName': 'is_married', 'ValueAsString': '1'},\n",
       "    {'FeatureName': 'event_time', 'ValueAsString': '2024-05-02T05:39:10.965Z'},\n",
       "    {'FeatureName': 'age_18-29', 'ValueAsString': '0'},\n",
       "    {'FeatureName': 'age_30-39', 'ValueAsString': '0'},\n",
       "    {'FeatureName': 'age_40-49', 'ValueAsString': '0'},\n",
       "    {'FeatureName': 'age_50-59', 'ValueAsString': '0'},\n",
       "    {'FeatureName': 'age_60-69', 'ValueAsString': '0'},\n",
       "    {'FeatureName': 'age_70-plus', 'ValueAsString': '1'},\n",
       "    {'FeatureName': 'n_days_active', 'ValueAsString': '0.2034246575342466'}]},\n",
       "  {'FeatureGroupName': 'customers-fg-02-13-01-25',\n",
       "   'RecordIdentifierValueAsString': 'C2',\n",
       "   'Record': [{'FeatureName': 'customer_id', 'ValueAsString': 'C2'},\n",
       "    {'FeatureName': 'sex', 'ValueAsString': '1'},\n",
       "    {'FeatureName': 'is_married', 'ValueAsString': '1'},\n",
       "    {'FeatureName': 'event_time', 'ValueAsString': '2024-05-02T05:39:10.966Z'},\n",
       "    {'FeatureName': 'age_18-29', 'ValueAsString': '0'},\n",
       "    {'FeatureName': 'age_30-39', 'ValueAsString': '0'},\n",
       "    {'FeatureName': 'age_40-49', 'ValueAsString': '0'},\n",
       "    {'FeatureName': 'age_50-59', 'ValueAsString': '0'},\n",
       "    {'FeatureName': 'age_60-69', 'ValueAsString': '0'},\n",
       "    {'FeatureName': 'age_70-plus', 'ValueAsString': '1'},\n",
       "    {'FeatureName': 'n_days_active', 'ValueAsString': '0.8595890410958904'}]},\n",
       "  {'FeatureGroupName': 'orders-fg-02-13-01-25',\n",
       "   'RecordIdentifierValueAsString': 'C1',\n",
       "   'Record': [{'FeatureName': 'order_id', 'ValueAsString': 'O99056'},\n",
       "    {'FeatureName': 'customer_id', 'ValueAsString': 'C1'},\n",
       "    {'FeatureName': 'product_id', 'ValueAsString': 'P5567'},\n",
       "    {'FeatureName': 'purchase_amount', 'ValueAsString': '0.6516831683168316'},\n",
       "    {'FeatureName': 'is_reordered', 'ValueAsString': '1'},\n",
       "    {'FeatureName': 'event_time', 'ValueAsString': '2024-05-02T05:39:18.632Z'},\n",
       "    {'FeatureName': 'n_days_since_last_purchase',\n",
       "     'ValueAsString': '0.5484496124031004'}]},\n",
       "  {'FeatureGroupName': 'orders-fg-02-13-01-25',\n",
       "   'RecordIdentifierValueAsString': 'C2',\n",
       "   'Record': [{'FeatureName': 'order_id', 'ValueAsString': 'O69355'},\n",
       "    {'FeatureName': 'customer_id', 'ValueAsString': 'C2'},\n",
       "    {'FeatureName': 'product_id', 'ValueAsString': 'P7251'},\n",
       "    {'FeatureName': 'purchase_amount', 'ValueAsString': '0.921881188118812'},\n",
       "    {'FeatureName': 'is_reordered', 'ValueAsString': '1'},\n",
       "    {'FeatureName': 'event_time', 'ValueAsString': '2024-05-02T05:39:18.203Z'},\n",
       "    {'FeatureName': 'n_days_since_last_purchase',\n",
       "     'ValueAsString': '0.9593023255813952'}]}],\n",
       " 'Errors': [],\n",
       " 'UnprocessedIdentifiers': []}"
      ]
     },
     "execution_count": 59,
     "metadata": {},
     "output_type": "execute_result"
    }
   ],
   "source": [
    "all_records"
   ]
  },
  {
   "cell_type": "code",
   "execution_count": 61,
   "id": "eb38f8d2-6c38-44d9-a5b3-7cb4b9acb663",
   "metadata": {},
   "outputs": [
    {
     "data": {
      "text/plain": [
       "{'FeatureGroupArn': 'arn:aws:sagemaker:us-east-1:866824485776:feature-group/customers-fg-02-13-01-25',\n",
       " 'ResponseMetadata': {'RequestId': 'b5c8a73d-3934-499b-b36f-4d7b79754f40',\n",
       "  'HTTPStatusCode': 200,\n",
       "  'HTTPHeaders': {'x-amzn-requestid': 'b5c8a73d-3934-499b-b36f-4d7b79754f40',\n",
       "   'content-type': 'application/x-amz-json-1.1',\n",
       "   'content-length': '101',\n",
       "   'date': 'Thu, 02 May 2024 13:35:46 GMT'},\n",
       "  'RetryAttempts': 0}}"
      ]
     },
     "execution_count": 61,
     "metadata": {},
     "output_type": "execute_result"
    }
   ],
   "source": [
    "# Add features to feature group\n",
    "from sagemaker.feature_store.feature_definition import StringFeatureDefinition\n",
    "\n",
    "customers_feature_group.update(feature_additions=[StringFeatureDefinition(\"email\")])"
   ]
  },
  {
   "cell_type": "code",
   "execution_count": 64,
   "id": "29899c9d-e8e5-448d-98eb-8af866232192",
   "metadata": {},
   "outputs": [
    {
     "data": {
      "text/plain": [
       "{'FeatureGroupArn': 'arn:aws:sagemaker:us-east-1:866824485776:feature-group/customers-fg-02-13-01-25',\n",
       " 'FeatureGroupName': 'customers-fg-02-13-01-25',\n",
       " 'RecordIdentifierFeatureName': 'customer_id',\n",
       " 'EventTimeFeatureName': 'event_time',\n",
       " 'FeatureDefinitions': [{'FeatureName': 'customer_id',\n",
       "   'FeatureType': 'String'},\n",
       "  {'FeatureName': 'sex', 'FeatureType': 'Integral'},\n",
       "  {'FeatureName': 'is_married', 'FeatureType': 'Integral'},\n",
       "  {'FeatureName': 'event_time', 'FeatureType': 'String'},\n",
       "  {'FeatureName': 'age_18-29', 'FeatureType': 'Integral'},\n",
       "  {'FeatureName': 'age_30-39', 'FeatureType': 'Integral'},\n",
       "  {'FeatureName': 'age_40-49', 'FeatureType': 'Integral'},\n",
       "  {'FeatureName': 'age_50-59', 'FeatureType': 'Integral'},\n",
       "  {'FeatureName': 'age_60-69', 'FeatureType': 'Integral'},\n",
       "  {'FeatureName': 'age_70-plus', 'FeatureType': 'Integral'},\n",
       "  {'FeatureName': 'n_days_active', 'FeatureType': 'Fractional'},\n",
       "  {'FeatureName': 'email', 'FeatureType': 'String'}],\n",
       " 'CreationTime': datetime.datetime(2024, 5, 2, 13, 6, 3, 461000, tzinfo=tzlocal()),\n",
       " 'LastModifiedTime': datetime.datetime(2024, 5, 2, 13, 35, 46, 800000, tzinfo=tzlocal()),\n",
       " 'OnlineStoreConfig': {'EnableOnlineStore': True},\n",
       " 'OfflineStoreConfig': {'S3StorageConfig': {'S3Uri': 's3://sagemaker-us-east-1-866824485776/aws-mlops-sagemaker',\n",
       "   'ResolvedOutputS3Uri': 's3://sagemaker-us-east-1-866824485776/aws-mlops-sagemaker/866824485776/sagemaker/us-east-1/offline-store/customers-fg-02-13-01-25-1714655163/data'},\n",
       "  'DisableGlueTableCreation': False,\n",
       "  'DataCatalogConfig': {'TableName': 'customers_fg_02_13_01_25_1714655163',\n",
       "   'Catalog': 'AwsDataCatalog',\n",
       "   'Database': 'sagemaker_featurestore'}},\n",
       " 'ThroughputConfig': {'ThroughputMode': 'OnDemand'},\n",
       " 'RoleArn': 'arn:aws:iam::866824485776:role/service-role/AmazonSageMaker-ExecutionRole-20240502T094083',\n",
       " 'FeatureGroupStatus': 'Created',\n",
       " 'OfflineStoreStatus': {'Status': 'Active'},\n",
       " 'LastUpdateStatus': {'Status': 'Successful'},\n",
       " 'OnlineStoreTotalSizeBytes': 0,\n",
       " 'ResponseMetadata': {'RequestId': '3d015bd5-3fed-4320-9482-119a430d467c',\n",
       "  'HTTPStatusCode': 200,\n",
       "  'HTTPHeaders': {'x-amzn-requestid': '3d015bd5-3fed-4320-9482-119a430d467c',\n",
       "   'content-type': 'application/x-amz-json-1.1',\n",
       "   'content-length': '2235',\n",
       "   'date': 'Thu, 02 May 2024 13:36:56 GMT'},\n",
       "  'RetryAttempts': 0}}"
      ]
     },
     "execution_count": 64,
     "metadata": {},
     "output_type": "execute_result"
    }
   ],
   "source": [
    "customers_feature_group.describe()"
   ]
  },
  {
   "cell_type": "code",
   "execution_count": 71,
   "id": "6f0cc3a0-e973-457b-8497-a898e6a8a080",
   "metadata": {},
   "outputs": [
    {
     "data": {
      "text/html": [
       "<div>\n",
       "<style scoped>\n",
       "    .dataframe tbody tr th:only-of-type {\n",
       "        vertical-align: middle;\n",
       "    }\n",
       "\n",
       "    .dataframe tbody tr th {\n",
       "        vertical-align: top;\n",
       "    }\n",
       "\n",
       "    .dataframe thead th {\n",
       "        text-align: right;\n",
       "    }\n",
       "</style>\n",
       "<table border=\"1\" class=\"dataframe\">\n",
       "  <thead>\n",
       "    <tr style=\"text-align: right;\">\n",
       "      <th></th>\n",
       "      <th>customer_id</th>\n",
       "      <th>sex</th>\n",
       "      <th>is_married</th>\n",
       "      <th>event_time</th>\n",
       "      <th>email</th>\n",
       "      <th>age_18-29</th>\n",
       "      <th>age_30-39</th>\n",
       "      <th>age_40-49</th>\n",
       "      <th>age_50-59</th>\n",
       "      <th>age_60-69</th>\n",
       "      <th>age_70-plus</th>\n",
       "      <th>n_days_active</th>\n",
       "    </tr>\n",
       "  </thead>\n",
       "  <tbody>\n",
       "    <tr>\n",
       "      <th>0</th>\n",
       "      <td>C10001</td>\n",
       "      <td>0</td>\n",
       "      <td>1</td>\n",
       "      <td>2024-05-02T13:43:28.295Z</td>\n",
       "      <td>kennethday@example.net</td>\n",
       "      <td>0</td>\n",
       "      <td>0</td>\n",
       "      <td>0</td>\n",
       "      <td>0</td>\n",
       "      <td>0</td>\n",
       "      <td>1</td>\n",
       "      <td>0.345890</td>\n",
       "    </tr>\n",
       "    <tr>\n",
       "      <th>1</th>\n",
       "      <td>C10002</td>\n",
       "      <td>0</td>\n",
       "      <td>1</td>\n",
       "      <td>2024-05-02T13:43:28.296Z</td>\n",
       "      <td>smelendez@example.org</td>\n",
       "      <td>0</td>\n",
       "      <td>0</td>\n",
       "      <td>0</td>\n",
       "      <td>0</td>\n",
       "      <td>0</td>\n",
       "      <td>1</td>\n",
       "      <td>0.884247</td>\n",
       "    </tr>\n",
       "    <tr>\n",
       "      <th>2</th>\n",
       "      <td>C10003</td>\n",
       "      <td>1</td>\n",
       "      <td>0</td>\n",
       "      <td>2024-05-02T13:43:28.298Z</td>\n",
       "      <td>brianperry@example.net</td>\n",
       "      <td>0</td>\n",
       "      <td>1</td>\n",
       "      <td>0</td>\n",
       "      <td>0</td>\n",
       "      <td>0</td>\n",
       "      <td>0</td>\n",
       "      <td>0.734247</td>\n",
       "    </tr>\n",
       "    <tr>\n",
       "      <th>3</th>\n",
       "      <td>C10004</td>\n",
       "      <td>0</td>\n",
       "      <td>0</td>\n",
       "      <td>2024-05-02T13:43:28.300Z</td>\n",
       "      <td>alyssamorgan@example.net</td>\n",
       "      <td>0</td>\n",
       "      <td>0</td>\n",
       "      <td>0</td>\n",
       "      <td>0</td>\n",
       "      <td>1</td>\n",
       "      <td>0</td>\n",
       "      <td>0.386301</td>\n",
       "    </tr>\n",
       "    <tr>\n",
       "      <th>4</th>\n",
       "      <td>C10005</td>\n",
       "      <td>0</td>\n",
       "      <td>1</td>\n",
       "      <td>2024-05-02T13:43:28.301Z</td>\n",
       "      <td>cjenkins@example.org</td>\n",
       "      <td>0</td>\n",
       "      <td>0</td>\n",
       "      <td>0</td>\n",
       "      <td>0</td>\n",
       "      <td>1</td>\n",
       "      <td>0</td>\n",
       "      <td>0.363699</td>\n",
       "    </tr>\n",
       "  </tbody>\n",
       "</table>\n",
       "</div>"
      ],
      "text/plain": [
       "  customer_id  sex  is_married  ... age_60-69 age_70-plus  n_days_active\n",
       "0      C10001    0           1  ...         0           1       0.345890\n",
       "1      C10002    0           1  ...         0           1       0.884247\n",
       "2      C10003    1           0  ...         0           0       0.734247\n",
       "3      C10004    0           0  ...         1           0       0.386301\n",
       "4      C10005    0           1  ...         1           0       0.363699\n",
       "\n",
       "[5 rows x 12 columns]"
      ]
     },
     "execution_count": 71,
     "metadata": {},
     "output_type": "execute_result"
    }
   ],
   "source": [
    "# Updated customers\n",
    "customer_data_updated = pd.read_csv(\"transformed/customers_updated.csv\")\n",
    "customer_data_updated.head()"
   ]
  },
  {
   "cell_type": "code",
   "execution_count": 72,
   "id": "8d9233e4-ca5c-46d0-bb71-312d39a77267",
   "metadata": {},
   "outputs": [
    {
     "data": {
      "text/plain": [
       "{'FeatureGroupArn': 'arn:aws:sagemaker:us-east-1:866824485776:feature-group/customers-fg-02-13-01-25',\n",
       " 'FeatureGroupName': 'customers-fg-02-13-01-25',\n",
       " 'RecordIdentifierFeatureName': 'customer_id',\n",
       " 'EventTimeFeatureName': 'event_time',\n",
       " 'FeatureDefinitions': [{'FeatureName': 'customer_id',\n",
       "   'FeatureType': 'String'},\n",
       "  {'FeatureName': 'sex', 'FeatureType': 'Integral'},\n",
       "  {'FeatureName': 'is_married', 'FeatureType': 'Integral'},\n",
       "  {'FeatureName': 'event_time', 'FeatureType': 'String'},\n",
       "  {'FeatureName': 'age_18-29', 'FeatureType': 'Integral'},\n",
       "  {'FeatureName': 'age_30-39', 'FeatureType': 'Integral'},\n",
       "  {'FeatureName': 'age_40-49', 'FeatureType': 'Integral'},\n",
       "  {'FeatureName': 'age_50-59', 'FeatureType': 'Integral'},\n",
       "  {'FeatureName': 'age_60-69', 'FeatureType': 'Integral'},\n",
       "  {'FeatureName': 'age_70-plus', 'FeatureType': 'Integral'},\n",
       "  {'FeatureName': 'n_days_active', 'FeatureType': 'Fractional'},\n",
       "  {'FeatureName': 'email', 'FeatureType': 'String'}],\n",
       " 'CreationTime': datetime.datetime(2024, 5, 2, 13, 6, 3, 461000, tzinfo=tzlocal()),\n",
       " 'LastModifiedTime': datetime.datetime(2024, 5, 2, 13, 35, 46, 800000, tzinfo=tzlocal()),\n",
       " 'OnlineStoreConfig': {'EnableOnlineStore': True},\n",
       " 'OfflineStoreConfig': {'S3StorageConfig': {'S3Uri': 's3://sagemaker-us-east-1-866824485776/aws-mlops-sagemaker',\n",
       "   'ResolvedOutputS3Uri': 's3://sagemaker-us-east-1-866824485776/aws-mlops-sagemaker/866824485776/sagemaker/us-east-1/offline-store/customers-fg-02-13-01-25-1714655163/data'},\n",
       "  'DisableGlueTableCreation': False,\n",
       "  'DataCatalogConfig': {'TableName': 'customers_fg_02_13_01_25_1714655163',\n",
       "   'Catalog': 'AwsDataCatalog',\n",
       "   'Database': 'sagemaker_featurestore'}},\n",
       " 'ThroughputConfig': {'ThroughputMode': 'OnDemand'},\n",
       " 'RoleArn': 'arn:aws:iam::866824485776:role/service-role/AmazonSageMaker-ExecutionRole-20240502T094083',\n",
       " 'FeatureGroupStatus': 'Created',\n",
       " 'OfflineStoreStatus': {'Status': 'Active'},\n",
       " 'LastUpdateStatus': {'Status': 'Successful'},\n",
       " 'OnlineStoreTotalSizeBytes': 0,\n",
       " 'ResponseMetadata': {'RequestId': '54a2c373-6cc2-4d3c-bf1f-33094385cc98',\n",
       "  'HTTPStatusCode': 200,\n",
       "  'HTTPHeaders': {'x-amzn-requestid': '54a2c373-6cc2-4d3c-bf1f-33094385cc98',\n",
       "   'content-type': 'application/x-amz-json-1.1',\n",
       "   'content-length': '2235',\n",
       "   'date': 'Thu, 02 May 2024 13:44:44 GMT'},\n",
       "  'RetryAttempts': 0}}"
      ]
     },
     "execution_count": 72,
     "metadata": {},
     "output_type": "execute_result"
    }
   ],
   "source": [
    "customers_feature_group.describe()"
   ]
  },
  {
   "cell_type": "code",
   "execution_count": 73,
   "id": "e183757f-e24c-4db7-bc29-f87128472010",
   "metadata": {},
   "outputs": [
    {
     "data": {
      "text/plain": [
       "Index(['customer_id', 'sex', 'is_married', 'event_time', 'email', 'age_18-29',\n",
       "       'age_30-39', 'age_40-49', 'age_50-59', 'age_60-69', 'age_70-plus',\n",
       "       'n_days_active'],\n",
       "      dtype='object')"
      ]
     },
     "execution_count": 73,
     "metadata": {},
     "output_type": "execute_result"
    }
   ],
   "source": [
    "customer_data_updated.columns"
   ]
  },
  {
   "cell_type": "code",
   "execution_count": 74,
   "id": "98f5c088-4859-4c35-8cc0-41e242274db3",
   "metadata": {},
   "outputs": [
    {
     "data": {
      "text/plain": [
       "IngestionManagerPandas(feature_group_name='customers-fg-02-13-01-25', feature_definitions={'customer_id': {'FeatureName': 'customer_id', 'FeatureType': 'String'}, 'sex': {'FeatureName': 'sex', 'FeatureType': 'Integral'}, 'is_married': {'FeatureName': 'is_married', 'FeatureType': 'Integral'}, 'event_time': {'FeatureName': 'event_time', 'FeatureType': 'String'}, 'age_18-29': {'FeatureName': 'age_18-29', 'FeatureType': 'Integral'}, 'age_30-39': {'FeatureName': 'age_30-39', 'FeatureType': 'Integral'}, 'age_40-49': {'FeatureName': 'age_40-49', 'FeatureType': 'Integral'}, 'age_50-59': {'FeatureName': 'age_50-59', 'FeatureType': 'Integral'}, 'age_60-69': {'FeatureName': 'age_60-69', 'FeatureType': 'Integral'}, 'age_70-plus': {'FeatureName': 'age_70-plus', 'FeatureType': 'Integral'}, 'n_days_active': {'FeatureName': 'n_days_active', 'FeatureType': 'Fractional'}, 'email': {'FeatureName': 'email', 'FeatureType': 'String'}}, sagemaker_fs_runtime_client_config=<botocore.config.Config object at 0x7f5caed696c0>, sagemaker_session=<sagemaker.session.Session object at 0x7f5caea7a6e0>, max_workers=3, max_processes=1, profile_name=None, _async_result=<multiprocess.pool.MapResult object at 0x7f5cb3ea8850>, _processing_pool=<pool ProcessPool(ncpus=1)>, _failed_indices=[])"
      ]
     },
     "execution_count": 74,
     "metadata": {},
     "output_type": "execute_result"
    }
   ],
   "source": [
    "customers_feature_group.ingest(data_frame = customer_data_updated, max_workers=3,wait=True)"
   ]
  },
  {
   "cell_type": "code",
   "execution_count": 75,
   "id": "98ac64fb-e9cf-4ef7-8b9e-16ee8364b24f",
   "metadata": {},
   "outputs": [],
   "source": [
    "customer_id = \"C10001\"\n",
    "sample_record = sagemaker_session.boto_session.client(\n",
    "    \"sagemaker-featurestore-runtime\", region_name=region\n",
    ").get_record(\n",
    "    FeatureGroupName=customers_feature_group_name, RecordIdentifierValueAsString=str(customer_id)\n",
    ")"
   ]
  },
  {
   "cell_type": "code",
   "execution_count": 76,
   "id": "f7142f7e-f101-48b4-a919-e59e223dab04",
   "metadata": {},
   "outputs": [
    {
     "data": {
      "text/plain": [
       "{'ResponseMetadata': {'RequestId': 'aa3adfed-fe11-473f-ae76-135e4ee1c26f',\n",
       "  'HTTPStatusCode': 200,\n",
       "  'HTTPHeaders': {'x-amzn-requestid': 'aa3adfed-fe11-473f-ae76-135e4ee1c26f',\n",
       "   'content-type': 'application/json',\n",
       "   'content-length': '970',\n",
       "   'date': 'Thu, 02 May 2024 13:46:31 GMT'},\n",
       "  'RetryAttempts': 0},\n",
       " 'Record': [{'FeatureName': 'customer_id', 'ValueAsString': 'C10001'},\n",
       "  {'FeatureName': 'sex', 'ValueAsString': '0'},\n",
       "  {'FeatureName': 'is_married', 'ValueAsString': '1'},\n",
       "  {'FeatureName': 'event_time', 'ValueAsString': '2024-05-02T13:43:28.295Z'},\n",
       "  {'FeatureName': 'age_18-29', 'ValueAsString': '0'},\n",
       "  {'FeatureName': 'age_30-39', 'ValueAsString': '0'},\n",
       "  {'FeatureName': 'age_40-49', 'ValueAsString': '0'},\n",
       "  {'FeatureName': 'age_50-59', 'ValueAsString': '0'},\n",
       "  {'FeatureName': 'age_60-69', 'ValueAsString': '0'},\n",
       "  {'FeatureName': 'age_70-plus', 'ValueAsString': '1'},\n",
       "  {'FeatureName': 'n_days_active', 'ValueAsString': '0.345890410958904'},\n",
       "  {'FeatureName': 'email', 'ValueAsString': 'kennethday@example.net'}]}"
      ]
     },
     "execution_count": 76,
     "metadata": {},
     "output_type": "execute_result"
    }
   ],
   "source": [
    "sample_record"
   ]
  },
  {
   "cell_type": "code",
   "execution_count": null,
   "id": "14a3fb70-45a1-4b61-936e-ba980069e468",
   "metadata": {},
   "outputs": [],
   "source": []
  }
 ],
 "metadata": {
  "kernelspec": {
   "display_name": "Python 3 (ipykernel)",
   "language": "python",
   "name": "python3"
  },
  "language_info": {
   "codemirror_mode": {
    "name": "ipython",
    "version": 3
   },
   "file_extension": ".py",
   "mimetype": "text/x-python",
   "name": "python",
   "nbconvert_exporter": "python",
   "pygments_lexer": "ipython3",
   "version": "3.10.14"
  }
 },
 "nbformat": 4,
 "nbformat_minor": 5
}
